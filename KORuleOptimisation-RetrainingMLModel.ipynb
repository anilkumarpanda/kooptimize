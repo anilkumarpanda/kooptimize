{
 "cells": [
  {
   "cell_type": "markdown",
   "metadata": {},
   "source": [
    "## Knock Out Rules optimisation through NGSA II"
   ]
  },
  {
   "cell_type": "code",
   "execution_count": 1,
   "metadata": {},
   "outputs": [],
   "source": [
    "%load_ext autoreload\n",
    "%autoreload 2\n",
    "from IPython.core.interactiveshell import InteractiveShell\n",
    "InteractiveShell.ast_node_interactivity = \"all\"\n",
    "import pandas as pd\n",
    "pd.set_option('display.max_columns', None)  # or 1000\n",
    "pd.set_option('display.max_rows', None)  # or 1000\n",
    "pd.set_option('display.max_colwidth', -1)  \n",
    "import kooptimize.NGSAII as ngsa2\n",
    "import warnings\n",
    "warnings.filterwarnings('ignore')\n",
    "import numpy as np\n",
    "import matplotlib.pyplot as plt"
   ]
  },
  {
   "cell_type": "code",
   "execution_count": 2,
   "metadata": {},
   "outputs": [
    {
     "name": "stdout",
     "output_type": "stream",
     "text": [
      "Loaded train data with shape (50000, 58)\n",
      "Loaded train target with shape (50000,)\n"
     ]
    }
   ],
   "source": [
    "train = pd.read_csv('data/train_fin_cols.csv')\n",
    "#test = pd.read_csv('data/test_fin_cols.csv')\n",
    "\n",
    "#Train on a random sub sample, as it takes time.\n",
    "train = train.sample(50000)\n",
    "\n",
    "y = train['loan_default']\n",
    "\n",
    "#test_unique_id = test['uniqueid']\n",
    "#test_unique_id = test_unique_id.reset_index()\n",
    "\n",
    "train = train.drop(['loan_default'],axis=1)\n",
    "\n",
    "print(\"Loaded train data with shape {}\".format(train.shape))\n",
    "print(\"Loaded train target with shape {}\".format(y.shape))\n",
    "#print(\"Loaded test target with shape {}\".format(test.shape))\n",
    "\n",
    "categorical_columns_to_drop = ['uniqueid','branch_id','supplier_id','manufacturer_id','current_pincode_id',\n",
    "                               'state_id','employee_code_id','perform_cns_score_description','employment_type','state_hrg','emp_hrg',\n",
    "                              'branch_hrg','pincode_hrg','supplier_hrg','manf_hrg']\n",
    "categorical_columns = ['employment_type','perform_cns_score_description']\n",
    "\n",
    "train = train.drop(categorical_columns_to_drop,axis=1)\n",
    "#test = test.drop(categorical_columns_to_drop,axis=1)"
   ]
  },
  {
   "cell_type": "markdown",
   "metadata": {},
   "source": [
    "When all KO rules are applied :"
   ]
  },
  {
   "cell_type": "code",
   "execution_count": 3,
   "metadata": {},
   "outputs": [
    {
     "name": "stdout",
     "output_type": "stream",
     "text": [
      "Application with all KO rules : 18734\n"
     ]
    }
   ],
   "source": [
    "individual = [1,1,1,1,1,1,1,1,1,1]\n",
    "selected_rules = ngsa2.get_rules_for_individual(individual)\n",
    "X_ko,y_ko = ngsa2.apply_rules_to_df(train,y,selected_rules)\n",
    "print(\"Application with all KO rules : {}\".format(X_ko.shape[0]))"
   ]
  },
  {
   "cell_type": "code",
   "execution_count": 6,
   "metadata": {},
   "outputs": [
    {
     "name": "stdout",
     "output_type": "stream",
     "text": [
      "AUC with All features  : 64.85767143930171 \n",
      "No.of KO Rules : 10\n",
      "Time Taken : 19.90510392189026 s\n"
     ]
    }
   ],
   "source": [
    "import time\n",
    "start_time = time.time()\n",
    "feature_list =[1]*10\n",
    "print(\"AUC with All features  : {} \".format(ngsa2.get_cv_score(X_ko,y_ko,feature_list)))\n",
    "chromosome_length = len(feature_list)\n",
    "print(\"No.of KO Rules : {}\".format(chromosome_length))\n",
    "print(\"Time Taken : {} s\".format(time.time()-start_time))"
   ]
  },
  {
   "cell_type": "code",
   "execution_count": null,
   "metadata": {},
   "outputs": [
    {
     "name": "stdout",
     "output_type": "stream",
     "text": [
      "Generation 0 out of 10 \n"
     ]
    }
   ],
   "source": [
    "# Set general parameters\n",
    "starting_population_size = 20\n",
    "maximum_generation = 10\n",
    "minimum_population_size = 5\n",
    "maximum_population_size = 10\n",
    "\n",
    "# Create starting population\n",
    "population = ngsa2.create_population(starting_population_size,chromosome_length)\n",
    "population = np.unique(population, axis=0)\n",
    "# Now we'll go through the generations of genetic algorithm\n",
    "\n",
    "generation_list = []\n",
    "time_required = []\n",
    "\n",
    "for generation in range(maximum_generation):\n",
    "    start_time = time.time()\n",
    "    \n",
    "    if generation %10 == 0:\n",
    "        print ('Generation {} out of {} '.format(generation,maximum_generation))\n",
    "    \n",
    "    # Breed\n",
    "    population = ngsa2.breed_population(population)\n",
    "    \n",
    "    # Score population\n",
    "    population,scores = ngsa2.score_population(train,y,population)\n",
    "    \n",
    "    \n",
    "    # Build pareto front\n",
    "    population = ngsa2.build_pareto_population(\n",
    "            population, scores, minimum_population_size, maximum_population_size)\n",
    "    \n",
    "    ngsa2.plot_2d_paretofront(scores,generation)\n",
    "    ngsa2.plot_3d_paretofront(scores,generation)\n",
    "    \n",
    "    time_taken = time.time()-start_time\n",
    "    print(\"{} secs for Generation {} \".format(time_taken,generation))\n",
    "    \n",
    "    generation_list.append(generation)\n",
    "    time_required.append(time_taken)\n",
    "    \n",
    "\n",
    "# Get final pareto front\n",
    "population,scores = ngsa2.score_population(train,y,population)\n",
    "population_ids = np.arange(population.shape[0]).astype(int)\n",
    "pareto_front = ngsa2.identify_pareto(scores, population_ids)\n",
    "population = population[pareto_front, :]\n",
    "scores = scores[pareto_front]\n",
    "\n",
    "#Selected Population\n",
    "\n",
    "ngsa2.plot_2d_paretofront(scores,generation+1)\n",
    "#ngsa2.plot_3d_paretofront(scores,generation+1)\n",
    "\n",
    "ngsa2.plot_gen_time(generation_list,time_required)"
   ]
  },
  {
   "cell_type": "markdown",
   "metadata": {},
   "source": [
    "### Final Results"
   ]
  },
  {
   "cell_type": "code",
   "execution_count": 6,
   "metadata": {},
   "outputs": [
    {
     "data": {
      "text/html": [
       "<div>\n",
       "<style scoped>\n",
       "    .dataframe tbody tr th:only-of-type {\n",
       "        vertical-align: middle;\n",
       "    }\n",
       "\n",
       "    .dataframe tbody tr th {\n",
       "        vertical-align: top;\n",
       "    }\n",
       "\n",
       "    .dataframe thead th {\n",
       "        text-align: right;\n",
       "    }\n",
       "</style>\n",
       "<table border=\"1\" class=\"dataframe\">\n",
       "  <thead>\n",
       "    <tr style=\"text-align: right;\">\n",
       "      <th></th>\n",
       "      <th>#Rules</th>\n",
       "      <th>AUC</th>\n",
       "      <th>No.ofApplications</th>\n",
       "      <th>Rules</th>\n",
       "    </tr>\n",
       "  </thead>\n",
       "  <tbody>\n",
       "    <tr>\n",
       "      <td>0</td>\n",
       "      <td>2.0</td>\n",
       "      <td>61.981991</td>\n",
       "      <td>21770.0</td>\n",
       "      <td>{7.0: 'new_accts_in_last_six_months &lt;= 4', 8.0: 'perform_cns_score &gt;= 250'}</td>\n",
       "    </tr>\n",
       "    <tr>\n",
       "      <td>1</td>\n",
       "      <td>1.0</td>\n",
       "      <td>58.434712</td>\n",
       "      <td>50000.0</td>\n",
       "      <td>{1.0: 'age_when_disbursal &lt;= 840 '}</td>\n",
       "    </tr>\n",
       "    <tr>\n",
       "      <td>2</td>\n",
       "      <td>2.0</td>\n",
       "      <td>62.859075</td>\n",
       "      <td>20718.0</td>\n",
       "      <td>{5.0: 'sec_no_of_accts &lt;= 15', 6.0: 'avg_acct_age_m &gt;= 6'}</td>\n",
       "    </tr>\n",
       "    <tr>\n",
       "      <td>3</td>\n",
       "      <td>3.0</td>\n",
       "      <td>62.528196</td>\n",
       "      <td>21725.0</td>\n",
       "      <td>{3.0: 'delinquent_accts_in_last_six_months &lt;=3', 7.0: 'new_accts_in_last_six_months &lt;= 4', 8.0: 'perform_cns_score &gt;= 250'}</td>\n",
       "    </tr>\n",
       "  </tbody>\n",
       "</table>\n",
       "</div>"
      ],
      "text/plain": [
       "   #Rules        AUC  No.ofApplications  \\\n",
       "0  2.0     61.981991  21770.0             \n",
       "1  1.0     58.434712  50000.0             \n",
       "2  2.0     62.859075  20718.0             \n",
       "3  3.0     62.528196  21725.0             \n",
       "\n",
       "                                                                                                                         Rules  \n",
       "0  {7.0: 'new_accts_in_last_six_months <= 4', 8.0: 'perform_cns_score >= 250'}                                                  \n",
       "1  {1.0: 'age_when_disbursal <= 840 '}                                                                                          \n",
       "2  {5.0: 'sec_no_of_accts <= 15', 6.0: 'avg_acct_age_m >= 6'}                                                                   \n",
       "3  {3.0: 'delinquent_accts_in_last_six_months <=3', 7.0: 'new_accts_in_last_six_months <= 4', 8.0: 'perform_cns_score >= 250'}  "
      ]
     },
     "execution_count": 6,
     "metadata": {},
     "output_type": "execute_result"
    }
   ],
   "source": [
    "ngsa2.show_population_score_df(population,scores)"
   ]
  },
  {
   "cell_type": "code",
   "execution_count": null,
   "metadata": {},
   "outputs": [],
   "source": []
  }
 ],
 "metadata": {
  "kernelspec": {
   "display_name": "Python 3",
   "language": "python",
   "name": "python3"
  },
  "language_info": {
   "codemirror_mode": {
    "name": "ipython",
    "version": 3
   },
   "file_extension": ".py",
   "mimetype": "text/x-python",
   "name": "python",
   "nbconvert_exporter": "python",
   "pygments_lexer": "ipython3",
   "version": "3.7.4"
  }
 },
 "nbformat": 4,
 "nbformat_minor": 4
}
