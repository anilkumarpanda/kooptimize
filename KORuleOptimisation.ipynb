{
 "cells": [
  {
   "cell_type": "markdown",
   "metadata": {},
   "source": [
    "## Knock Out Rules optimisation through NGSA II-Pretrained Model"
   ]
  },
  {
   "cell_type": "code",
   "execution_count": 49,
   "metadata": {},
   "outputs": [
    {
     "name": "stdout",
     "output_type": "stream",
     "text": [
      "The autoreload extension is already loaded. To reload it, use:\n",
      "  %reload_ext autoreload\n"
     ]
    }
   ],
   "source": [
    "%load_ext autoreload\n",
    "%autoreload 2\n",
    "from IPython.core.interactiveshell import InteractiveShell\n",
    "InteractiveShell.ast_node_interactivity = \"all\"\n",
    "import pandas as pd\n",
    "pd.set_option('display.max_columns', None)  # or 1000\n",
    "pd.set_option('display.max_rows', None)  # or 1000\n",
    "pd.set_option('display.max_colwidth', -1)  \n",
    "import kooptimize.NGSAII as ngsa2\n",
    "import warnings\n",
    "warnings.filterwarnings('ignore')\n",
    "import numpy as np\n",
    "import matplotlib.pyplot as plt\n",
    "from sklearn.model_selection import train_test_split\n",
    "from sklearn.ensemble import RandomForestClassifier\n",
    "from random import randint\n",
    "from sklearn.model_selection import RandomizedSearchCV\n",
    "from sklearn.model_selection import cross_validate, cross_val_predict\n",
    "from sklearn.experimental import enable_hist_gradient_boosting  # noqa\n",
    "from sklearn.ensemble import GradientBoostingClassifier\n",
    "import time"
   ]
  },
  {
   "cell_type": "markdown",
   "metadata": {},
   "source": [
    "### Pre-trained Model:\n",
    "1. Split the dataset as KO Rules + CV trained model.\n",
    "2. Optimise KO rule on the dataset not used for model training, using the trained model.\n"
   ]
  },
  {
   "cell_type": "code",
   "execution_count": 50,
   "metadata": {},
   "outputs": [
    {
     "name": "stdout",
     "output_type": "stream",
     "text": [
      "Loaded train data with shape (233154, 58)\n",
      "Loaded train target with shape (233154,)\n",
      "Records remaining after applying KO rules 69746\n",
      "Training model....\n",
      "Training took 3.0994415283203125e-05 secs\n",
      "Base AUC score 66.96841903309803\n"
     ]
    }
   ],
   "source": [
    "data = pd.read_csv('data/train_fin_cols.csv')\n",
    "\n",
    "#Train on a random sub sample, as it takes time.\n",
    "#data = data.sample(50000)\n",
    "y_org = data['loan_default']\n",
    "X_org = data.drop(['loan_default'],axis=1)\n",
    "\n",
    "print(\"Loaded train data with shape {}\".format(X_org.shape))\n",
    "print(\"Loaded train target with shape {}\".format(y_org.shape))\n",
    "\n",
    "categorical_columns_to_drop = ['uniqueid','branch_id','supplier_id','manufacturer_id','current_pincode_id',\n",
    "                               'state_id','employee_code_id','perform_cns_score_description','employment_type','state_hrg','emp_hrg',\n",
    "                              'branch_hrg','pincode_hrg','supplier_hrg','manf_hrg']\n",
    "categorical_columns = ['employment_type','perform_cns_score_description']\n",
    "\n",
    "X_org = X_org.drop(categorical_columns_to_drop,axis=1)\n",
    "#test = test.drop(categorical_columns_to_drop,axis=1)\n",
    "\n",
    "\n",
    "#Split the dataset and train the model on it.\n",
    "\n",
    "X_crm,X_optimize,y_crm,y_optimize=train_test_split(X_org,y_org,train_size=0.8,random_state=42)\n",
    "\n",
    "\n",
    "individual = [1,1,1,1,1,1,1,1,1,1]\n",
    "selected_rules = ngsa2.get_rules_for_individual(individual)\n",
    "X_ko_crm,y_ko_crm = ngsa2.apply_rules_to_df(X_crm,y_crm,selected_rules)\n",
    "\n",
    "print(f\"Records remaining after applying KO rules {X_ko_crm.shape[0]}\")\n",
    "\n",
    "#X_train,X_test,y_train,y_test = train_test_split(X_ko,y_ko,train_size=0.9,random_state=42)\n",
    "\n",
    "def get_trained_model(X,y):\n",
    "    \"\"\"\n",
    "    Returns a trained model.\n",
    "    \"\"\"\n",
    "#     clf = GradientBoostingClassifier(n_estimators=500,max_features='auto',\n",
    "#                                      learning_rate=0.01,random_state=0)\n",
    "    clf = GradientBoostingClassifier(max_features='auto')\n",
    "    \n",
    "    score = cross_validate(clf,X,y,scoring=['roc_auc'],cv=5)\n",
    "    return clf.fit(X,y),(np.mean(score['test_roc_auc'])*100)\n",
    "\n",
    "print(\"Training model....\")\n",
    "\n",
    "start_time = time.time()\n",
    "#trained_model,base_auc = get_trained_model(X_ko_crm,y_ko_crm)\n",
    "\n",
    "print(f\"Training took {time.time()-start_time} secs\")\n",
    "print(f\"Base AUC score {base_auc}\")"
   ]
  },
  {
   "cell_type": "markdown",
   "metadata": {},
   "source": [
    "### When all KO rules are applied :"
   ]
  },
  {
   "cell_type": "code",
   "execution_count": 51,
   "metadata": {},
   "outputs": [
    {
     "name": "stdout",
     "output_type": "stream",
     "text": [
      "Application with all KO rules : 17528\n"
     ]
    }
   ],
   "source": [
    "individual = [1,1,1,1,1,1,1,1,1,1]\n",
    "selected_rules = ngsa2.get_rules_for_individual(individual)\n",
    "X_ko,y_ko = ngsa2.apply_rules_to_df(X_optimize,y_optimize,selected_rules)\n",
    "print(\"Application with all KO rules : {}\".format(X_ko.shape[0]))"
   ]
  },
  {
   "cell_type": "code",
   "execution_count": 52,
   "metadata": {},
   "outputs": [
    {
     "name": "stdout",
     "output_type": "stream",
     "text": [
      "AUC with All Rules  : 66.9156338683074 \n",
      "No.of KO Rules : 10\n",
      "Time Taken : 0.17025303840637207 s\n"
     ]
    }
   ],
   "source": [
    "import time\n",
    "start_time = time.time()\n",
    "feature_list = [1]*10\n",
    "print(\"AUC with All Rules  : {} \".format(ngsa2.get_auc(X_ko,y_ko,trained_model,feature_list)))\n",
    "chromosome_length = len(feature_list)\n",
    "print(\"No.of KO Rules : {}\".format(chromosome_length))\n",
    "print(\"Time Taken : {} s\".format(time.time()-start_time))"
   ]
  },
  {
   "cell_type": "code",
   "execution_count": 53,
   "metadata": {},
   "outputs": [
    {
     "name": "stdout",
     "output_type": "stream",
     "text": [
      "1.0 -1.71787043051188 20740\n",
      "2.0 -1.7201460723516533 20725\n",
      "2.0 -7.126132984098426 46623\n",
      "1.0 -7.210716489673246 46016\n",
      "2.0 -7.21189463808409 46013\n",
      "4.0 -7.211108106359617 45943\n",
      "5.0 -2.1167721010513674 19335\n",
      "7.0 -1.0821120812430252 17529\n",
      "4.0 -1.7461413369907604 20127\n",
      "4.0 -7.2051468547744975 46009\n",
      "5.0 -7.206765189150481 46007\n",
      "7.0 -1.7393231581143027 20106\n",
      "1.0 -7.127626724336871 46631\n",
      "2.0 -7.124998144461884 46626\n",
      "2.0 -1.71787043051188 20740\n",
      "3.0 -7.216674616271895 45950\n",
      "4.0 -7.130437795260107 46560\n",
      "4.0 -2.099350476054852 19352\n",
      "5.0 -1.7461413369907604 20127\n",
      "3.0 -7.134833962251882 46543\n",
      "2.0 -7.210716489673246 46016\n",
      "3.0 -2.2050320930506757 18809\n",
      "5.0 -2.2172738010504247 18793\n",
      "4.0 -7.203381743443444 46011\n",
      "6.0 -1.0701637947438059 17542\n",
      "8.0 -1.0821120812430252 17529\n",
      "4.0 -7.126132984098426 46623\n",
      "5.0 -7.130437795260107 46560\n",
      "9.0 -1.0821120812430252 17529\n",
      "6.0 -1.7461413369907604 20127\n",
      "8.0 -2.2053557385058866 18804\n",
      "10.0 -1.0843661316926045 17528\n",
      "Generation 0 out of 10 \n",
      "1.0 -1.71787043051188 20740\n",
      "1.0 -7.127626724336871 46631\n",
      "2.0 -7.124998144461884 46626\n",
      "2.0 -1.71787043051188 20740\n",
      "6.0 -1.0701637947438059 17542\n",
      "1.0 -7.124998144461884 46626\n",
      "1.0 -1.71787043051188 20740\n",
      "1.0 -7.127626724336871 46631\n",
      "2.0 -7.124998144461884 46626\n",
      "2.0 -1.71787043051188 20740\n",
      "3.0 -1.7070852230664713 20735\n",
      "5.0 -2.2065263609146797 18807\n",
      "6.0 -1.0701637947438059 17542\n",
      "1.0 -7.124998144461884 46626\n",
      "1.0 -1.71787043051188 20740\n",
      "2.0 -1.7070852230664713 20735\n",
      "1.0 -7.127626724336871 46631\n",
      "2.0 -7.124998144461884 46626\n",
      "2.0 -1.71787043051188 20740\n",
      "3.0 -1.7070852230664713 20735\n",
      "5.0 -1.0689507190028706 17544\n",
      "6.0 -1.0701637947438059 17542\n",
      "1.0 -7.124998144461884 46626\n",
      "1.0 -1.71787043051188 20740\n",
      "2.0 -1.7070852230664713 20735\n",
      "1.0 -7.127626724336871 46631\n",
      "2.0 -7.124998144461884 46626\n",
      "2.0 -1.71787043051188 20740\n",
      "3.0 -1.7070852230664713 20735\n",
      "5.0 -1.0689507190028706 17544\n",
      "1.0 -7.124998144461884 46626\n",
      "1.0 -1.71787043051188 20740\n",
      "2.0 -1.7070852230664713 20735\n",
      "1.0 -7.127626724336871 46631\n",
      "2.0 -7.124998144461884 46626\n",
      "2.0 -1.71787043051188 20740\n",
      "3.0 -1.7070852230664713 20735\n",
      "5.0 -1.0689507190028706 17544\n",
      "1.0 -7.124998144461884 46626\n",
      "1.0 -1.71787043051188 20740\n",
      "2.0 -1.7070852230664713 20735\n",
      "4.0 -1.0689507190028706 17544\n",
      "1.0 -7.127626724336871 46631\n",
      "2.0 -7.124998144461884 46626\n",
      "2.0 -1.71787043051188 20740\n",
      "3.0 -1.7070852230664713 20735\n",
      "5.0 -1.0689507190028706 17544\n",
      "6.0 -1.0701637947438059 17542\n",
      "2.0 -7.127626724336871 46631\n",
      "1.0 -7.124998144461884 46626\n",
      "1.0 -1.71787043051188 20740\n",
      "2.0 -1.7070852230664713 20735\n",
      "2.0 -7.210716489673246 46016\n",
      "4.0 -1.0689507190028706 17544\n",
      "1.0 -7.127626724336871 46631\n",
      "2.0 -7.124998144461884 46626\n",
      "2.0 -1.71787043051188 20740\n",
      "3.0 -1.7070852230664713 20735\n",
      "3.0 -0.992973544520126 18096\n",
      "5.0 -1.0689507190028706 17544\n",
      "2.0 -7.127626724336871 46631\n",
      "1.0 -7.124998144461884 46626\n",
      "1.0 -1.71787043051188 20740\n",
      "2.0 -1.7070852230664713 20735\n",
      "1.0 -7.127626724336871 46631\n",
      "2.0 -7.124998144461884 46626\n",
      "2.0 -1.71787043051188 20740\n",
      "3.0 -1.7070852230664713 20735\n",
      "3.0 -0.992973544520126 18096\n",
      "2.0 -7.127626724336871 46631\n",
      "4.0 -0.992973544520126 18096\n",
      "1.0 -7.124998144461884 46626\n",
      "1.0 -1.71787043051188 20740\n",
      "2.0 -1.7070852230664713 20735\n",
      "1.0 -7.127626724336871 46631\n",
      "2.0 -7.124998144461884 46626\n",
      "2.0 -1.71787043051188 20740\n",
      "3.0 -1.7070852230664713 20735\n",
      "3.0 -0.992973544520126 18096\n",
      "3.0 -1.7070852230664713 20735\n",
      "2.0 -7.127626724336871 46631\n",
      "4.0 -0.992973544520126 18096\n",
      "4.0 -0.992973544520126 18096\n",
      "1.0 -7.127626724336871 46631\n",
      "2.0 -7.124998144461884 46626\n",
      "3.0 -0.992973544520126 18096\n",
      "2.0 -7.127626724336871 46631\n"
     ]
    },
    {
     "data": {
      "text/plain": [
       "[<matplotlib.lines.Line2D at 0x1a34815d10>]"
      ]
     },
     "execution_count": 53,
     "metadata": {},
     "output_type": "execute_result"
    },
    {
     "data": {
      "text/plain": [
       "[Text(0, 0.5, 'Time(secs)'), Text(0.5, 0, 'Generations')]"
      ]
     },
     "execution_count": 53,
     "metadata": {},
     "output_type": "execute_result"
    },
    {
     "data": {
      "text/plain": [
       "Text(0.5, 1.0, 'Time required per Generation.')"
      ]
     },
     "execution_count": 53,
     "metadata": {},
     "output_type": "execute_result"
    },
    {
     "data": {
      "image/png": "[encoded data removed]",
      "text/plain": [
       "<Figure size 1080x648 with 1 Axes>"
      ]
     },
     "metadata": {
      "needs_background": "light"
     },
     "output_type": "display_data"
    }
   ],
   "source": [
    "# Set general parameters\n",
    "starting_population_size = 20\n",
    "maximum_generation = 10\n",
    "minimum_population_size = 5\n",
    "maximum_population_size = 10\n",
    "\n",
    "# Create starting population\n",
    "population = ngsa2.create_population(starting_population_size,chromosome_length)\n",
    "population = np.unique(population, axis=0)\n",
    "# Now we'll go through the generations of genetic algorithm\n",
    "\n",
    "generation_list = []\n",
    "time_required = []\n",
    "\n",
    "for generation in range(maximum_generation):\n",
    "    start_time = time.time()\n",
    "    \n",
    "    # Breed\n",
    "    population = ngsa2.breed_population(population)\n",
    "    \n",
    "    # Score population\n",
    "    population,scores = ngsa2.score_population_with_trained_clf(X_optimize,y_optimize,\n",
    "                                                                trained_model,population)\n",
    "    \n",
    "    # Build pareto front\n",
    "    population = ngsa2.build_pareto_population(\n",
    "            population, scores, minimum_population_size, maximum_population_size)\n",
    "    \n",
    "    if generation %10 == 0:\n",
    "        print ('Generation {} out of {} '.format(generation,maximum_generation))\n",
    "    #ngsa2.plot_2d_paretofront(scores,generation)\n",
    "    #ngsa2.plot_3d_paretofront(scores,generation)\n",
    "    \n",
    "    time_taken = time.time()-start_time\n",
    "    #print(\"{} secs for Generation {} \".format(time_taken,generation))\n",
    "    \n",
    "    generation_list.append(generation)\n",
    "    time_required.append(time_taken)\n",
    "    \n",
    "\n",
    "# Get final pareto front\n",
    "population,scores = ngsa2.score_population_with_trained_clf(X_optimize,y_optimize,\n",
    "                                                            trained_model,population)\n",
    "population_ids = np.arange(population.shape[0]).astype(int)\n",
    "pareto_front = ngsa2.identify_pareto(scores, population_ids)\n",
    "population = population[pareto_front, :]\n",
    "scores = scores[pareto_front]\n",
    "\n",
    "#Selected Population\n",
    "#print(\"Selected Population : \\n\",population)\n",
    "#print(\"Scores\", scores)\n",
    "#ngsa2.plot_2d_paretofront(scores,generation+1)\n",
    "#ngsa2.plot_3d_paretofront(scores,generation+1)\n",
    "\n",
    "#Plot time taken for calculation.\n",
    "fig,ax = plt.subplots()\n",
    "ax.plot(generation_list,time_required)\n",
    "ax.set(xlabel=\"Generations\",ylabel=\"Time(secs)\")\n",
    "ax.set_title('Time required per Generation.')\n",
    "fig.show()"
   ]
  },
  {
   "cell_type": "markdown",
   "metadata": {},
   "source": [
    "### Final Results"
   ]
  },
  {
   "cell_type": "code",
   "execution_count": 54,
   "metadata": {},
   "outputs": [
    {
     "data": {
      "text/html": [
       "<div>\n",
       "<style scoped>\n",
       "    .dataframe tbody tr th:only-of-type {\n",
       "        vertical-align: middle;\n",
       "    }\n",
       "\n",
       "    .dataframe tbody tr th {\n",
       "        vertical-align: top;\n",
       "    }\n",
       "\n",
       "    .dataframe thead th {\n",
       "        text-align: right;\n",
       "    }\n",
       "</style>\n",
       "<table border=\"1\" class=\"dataframe\">\n",
       "  <thead>\n",
       "    <tr style=\"text-align: right;\">\n",
       "      <th></th>\n",
       "      <th>AUC</th>\n",
       "      <th>No.ofApplications</th>\n",
       "      <th>Rules</th>\n",
       "    </tr>\n",
       "  </thead>\n",
       "  <tbody>\n",
       "    <tr>\n",
       "      <td>0</td>\n",
       "      <td>-0.992974</td>\n",
       "      <td>18096.0</td>\n",
       "      <td>{1.0: 'age_when_disbursal &lt;= 840 ', 2.0: 'ltv &lt;= 95', 6.0: 'avg_acct_age_m &gt;= 6', 8.0: 'perform_cns_score &gt;= 200'}</td>\n",
       "    </tr>\n",
       "    <tr>\n",
       "      <td>1</td>\n",
       "      <td>-7.127627</td>\n",
       "      <td>46631.0</td>\n",
       "      <td>{2.0: 'ltv &lt;= 95'}</td>\n",
       "    </tr>\n",
       "    <tr>\n",
       "      <td>2</td>\n",
       "      <td>-7.124998</td>\n",
       "      <td>46626.0</td>\n",
       "      <td>{2.0: 'ltv &lt;= 95', 9.0: 'pri_overdue_accts &lt;=10'}</td>\n",
       "    </tr>\n",
       "    <tr>\n",
       "      <td>3</td>\n",
       "      <td>-0.992974</td>\n",
       "      <td>18096.0</td>\n",
       "      <td>{2.0: 'ltv &lt;= 95', 6.0: 'avg_acct_age_m &gt;= 6', 8.0: 'perform_cns_score &gt;= 200'}</td>\n",
       "    </tr>\n",
       "    <tr>\n",
       "      <td>4</td>\n",
       "      <td>-7.127627</td>\n",
       "      <td>46631.0</td>\n",
       "      <td>{1.0: 'age_when_disbursal &lt;= 840 ', 2.0: 'ltv &lt;= 95'}</td>\n",
       "    </tr>\n",
       "  </tbody>\n",
       "</table>\n",
       "</div>"
      ],
      "text/plain": [
       "        AUC  No.ofApplications  \\\n",
       "0 -0.992974  18096.0             \n",
       "1 -7.127627  46631.0             \n",
       "2 -7.124998  46626.0             \n",
       "3 -0.992974  18096.0             \n",
       "4 -7.127627  46631.0             \n",
       "\n",
       "                                                                                                                Rules  \n",
       "0  {1.0: 'age_when_disbursal <= 840 ', 2.0: 'ltv <= 95', 6.0: 'avg_acct_age_m >= 6', 8.0: 'perform_cns_score >= 200'}  \n",
       "1  {2.0: 'ltv <= 95'}                                                                                                  \n",
       "2  {2.0: 'ltv <= 95', 9.0: 'pri_overdue_accts <=10'}                                                                   \n",
       "3  {2.0: 'ltv <= 95', 6.0: 'avg_acct_age_m >= 6', 8.0: 'perform_cns_score >= 200'}                                     \n",
       "4  {1.0: 'age_when_disbursal <= 840 ', 2.0: 'ltv <= 95'}                                                               "
      ]
     },
     "execution_count": 54,
     "metadata": {},
     "output_type": "execute_result"
    }
   ],
   "source": [
    "ngsa2.show_population_score_df(population,scores)"
   ]
  },
  {
   "cell_type": "code",
   "execution_count": null,
   "metadata": {},
   "outputs": [],
   "source": []
  }
 ],
 "metadata": {
  "kernelspec": {
   "display_name": "Python 3",
   "language": "python",
   "name": "python3"
  },
  "language_info": {
   "codemirror_mode": {
    "name": "ipython",
    "version": 3
   },
   "file_extension": ".py",
   "mimetype": "text/x-python",
   "name": "python",
   "nbconvert_exporter": "python",
   "pygments_lexer": "ipython3",
   "version": "3.7.4"
  }
 },
 "nbformat": 4,
 "nbformat_minor": 4
}
